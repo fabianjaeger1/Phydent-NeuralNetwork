version https://git-lfs.github.com/spec/v1
oid sha256:40dac7a656c1cc93b72df132bbc944112ad753ecdcdffc4b61279728260163c6
size 86938
