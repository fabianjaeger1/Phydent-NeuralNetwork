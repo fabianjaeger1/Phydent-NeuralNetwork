version https://git-lfs.github.com/spec/v1
oid sha256:ab5fd6621875f62b5e417cfa4cb12ae238e75bdebf0b8bcf63591529a02cf0e2
size 140247
