version https://git-lfs.github.com/spec/v1
oid sha256:aac972b4e6fa7e106c32601a70ac09322ec6c5d9b0b8cc0fbf230abf38521336
size 19621218
