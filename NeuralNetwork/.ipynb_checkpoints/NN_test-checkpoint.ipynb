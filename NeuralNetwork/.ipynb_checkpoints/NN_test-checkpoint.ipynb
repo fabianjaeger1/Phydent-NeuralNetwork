version https://git-lfs.github.com/spec/v1
oid sha256:8a68d8756d03117aeeeebd39d888e9ec67d6574e8223ae5a544bbde41ba14608
size 9439
