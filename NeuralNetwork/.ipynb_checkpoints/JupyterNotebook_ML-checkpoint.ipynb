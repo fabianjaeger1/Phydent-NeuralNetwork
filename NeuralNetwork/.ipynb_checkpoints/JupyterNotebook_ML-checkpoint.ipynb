version https://git-lfs.github.com/spec/v1
oid sha256:d97f5a148c95df0a387848d75c3d95f8f9804679ef087be4a1b17279e97c99d4
size 84517
