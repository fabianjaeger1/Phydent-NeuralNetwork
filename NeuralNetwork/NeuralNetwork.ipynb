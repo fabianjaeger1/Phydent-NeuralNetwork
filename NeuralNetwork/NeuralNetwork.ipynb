version https://git-lfs.github.com/spec/v1
oid sha256:9f7c1f200e95e31e7d89ca40405b88761e52e19393084d9df2f738ce4582084f
size 83366
