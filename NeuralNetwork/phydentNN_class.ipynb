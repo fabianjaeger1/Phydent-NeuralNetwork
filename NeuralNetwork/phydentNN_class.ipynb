version https://git-lfs.github.com/spec/v1
oid sha256:67ca0574c1702c9398b17e2d7f2320522b3301232efcb11d2c87485df646e1a5
size 169400
