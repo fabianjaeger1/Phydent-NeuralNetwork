version https://git-lfs.github.com/spec/v1
oid sha256:b38212183ecc4ccc42ea4c5129fe7dbe550384ce83210d9138b482919a5cb88b
size 358722
