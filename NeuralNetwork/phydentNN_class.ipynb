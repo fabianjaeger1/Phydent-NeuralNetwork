version https://git-lfs.github.com/spec/v1
oid sha256:869d05b24f4335a658c6d53c0452f0ef37db36e5ca475831a04eb12bfd5a3325
size 247168
