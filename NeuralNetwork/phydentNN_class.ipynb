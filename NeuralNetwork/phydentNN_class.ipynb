version https://git-lfs.github.com/spec/v1
oid sha256:b331be042187c338e80af9d62f5b12dbe30512ebc2eb2930d9a32ce38bb927b5
size 245079
