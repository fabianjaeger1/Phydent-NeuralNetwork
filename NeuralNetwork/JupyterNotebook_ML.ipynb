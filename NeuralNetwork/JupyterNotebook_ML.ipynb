version https://git-lfs.github.com/spec/v1
oid sha256:c8ef38a959eb84062bf964d100e7ebdf5e100eff81404897affe3793c70fc43d
size 4013967
