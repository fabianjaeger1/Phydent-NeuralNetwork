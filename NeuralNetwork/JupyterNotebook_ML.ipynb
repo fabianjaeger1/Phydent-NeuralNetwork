version https://git-lfs.github.com/spec/v1
oid sha256:27dc2b87a5f7b2ce5d9e4da4e220177be0ac9ffa22d6f7b81d68588bdf33fb06
size 20143139
