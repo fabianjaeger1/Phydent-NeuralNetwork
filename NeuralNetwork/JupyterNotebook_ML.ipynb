version https://git-lfs.github.com/spec/v1
oid sha256:86e7579e9c21ab17e08d07d62ea62d11ce2ac63634c3037f92aaca5ece01fbf7
size 412523
