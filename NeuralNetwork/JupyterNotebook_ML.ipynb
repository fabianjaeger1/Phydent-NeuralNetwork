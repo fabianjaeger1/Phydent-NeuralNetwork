version https://git-lfs.github.com/spec/v1
oid sha256:f534512f581925b1f999f31a53c68e9896120a53480f7388e94a6dea551f9c06
size 134390
