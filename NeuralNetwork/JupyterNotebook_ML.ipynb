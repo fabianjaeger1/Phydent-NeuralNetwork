version https://git-lfs.github.com/spec/v1
oid sha256:bb1e8b9d3d5fa5fc04335e21bfab1467096472c826af558f15f1349adff3b3f4
size 365468
