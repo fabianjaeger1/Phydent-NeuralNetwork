version https://git-lfs.github.com/spec/v1
oid sha256:37f49e5a96b23ab2a0210ba53e8c4d49dbb2cb93cd364950cdab4b96fac0a3bf
size 121703
