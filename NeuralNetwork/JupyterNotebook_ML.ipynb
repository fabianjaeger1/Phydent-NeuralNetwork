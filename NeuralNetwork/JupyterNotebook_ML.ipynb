version https://git-lfs.github.com/spec/v1
oid sha256:c65b0bf5811ca9aa90c68375cf3ff97d57f799c32cdcee92ae06682d6eab04e2
size 84504
