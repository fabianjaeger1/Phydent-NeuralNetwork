version https://git-lfs.github.com/spec/v1
oid sha256:fb0d221f6fd1f826c2a6ad805a555a59d7b92322e316aea679f4e1a3267a97c0
size 22199546
