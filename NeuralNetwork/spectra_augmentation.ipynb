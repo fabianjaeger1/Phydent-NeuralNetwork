version https://git-lfs.github.com/spec/v1
oid sha256:407439a9e0cbf4da98a17a6e63068ddc6ac609cda6d8bb981b0c6cbd077c2511
size 118585
